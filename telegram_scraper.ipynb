{
 "cells": [
  {
   "cell_type": "code",
   "execution_count": 1,
   "metadata": {},
   "outputs": [
    {
     "name": "stdout",
     "output_type": "stream",
     "text": [
      "Collecting telethon\n",
      "  Downloading Telethon-1.40.0-py3-none-any.whl.metadata (3.9 kB)\n",
      "Collecting pyaes (from telethon)\n",
      "  Downloading pyaes-1.6.1.tar.gz (28 kB)\n",
      "  Preparing metadata (setup.py) ... \u001b[?25ldone\n",
      "\u001b[?25hCollecting rsa (from telethon)\n",
      "  Downloading rsa-4.9.1-py3-none-any.whl.metadata (5.6 kB)\n",
      "Collecting pyasn1>=0.1.3 (from rsa->telethon)\n",
      "  Downloading pyasn1-0.6.1-py3-none-any.whl.metadata (8.4 kB)\n",
      "Downloading Telethon-1.40.0-py3-none-any.whl (722 kB)\n",
      "\u001b[2K   \u001b[90m━━━━━━━━━━━━━━━━━━━━━━━━━━━━━━━━━━━━━━━━\u001b[0m \u001b[32m722.0/722.0 kB\u001b[0m \u001b[31m3.4 MB/s\u001b[0m eta \u001b[36m0:00:00\u001b[0m-:--:--\u001b[0m\n",
      "\u001b[?25hDownloading rsa-4.9.1-py3-none-any.whl (34 kB)\n",
      "Downloading pyasn1-0.6.1-py3-none-any.whl (83 kB)\n",
      "Building wheels for collected packages: pyaes\n",
      "  Building wheel for pyaes (setup.py) ... \u001b[?25ldone\n",
      "\u001b[?25h  Created wheel for pyaes: filename=pyaes-1.6.1-py3-none-any.whl size=26422 sha256=36089ab36ac766faed492e0199a5dc35a604a49e835ec37f21431c5a49af809b\n",
      "  Stored in directory: /Users/soniya/Library/Caches/pip/wheels/cf/2b/cc/2cd1fc992150692e118eb782ca44536ebc2b566823353085ba\n",
      "Successfully built pyaes\n",
      "Installing collected packages: pyaes, pyasn1, rsa, telethon\n",
      "Successfully installed pyaes-1.6.1 pyasn1-0.6.1 rsa-4.9.1 telethon-1.40.0\n",
      "Note: you may need to restart the kernel to use updated packages.\n"
     ]
    }
   ],
   "source": [
    "pip install telethon\n"
   ]
  },
  {
   "cell_type": "code",
   "execution_count": 17,
   "metadata": {},
   "outputs": [
    {
     "name": "stdout",
     "output_type": "stream",
     "text": [
      "✅ Logged in!\n",
      "👥 Members fetched: 9973\n",
      "📁 Saved: /tmp/telegram_members.csv\n"
     ]
    },
    {
     "name": "stderr",
     "output_type": "stream",
     "text": [
      "Cannot get difference since the account is likely misusing the session: database is locked\n",
      "Unhandled exception from keepalive_handle after cancelling <class 'asyncio.tasks.Task'> (<Task finished name='Task-210' coro=<UpdateMethods._keepalive_loop() done, defined at /opt/miniconda3/lib/python3.13/site-packages/telethon/client/updates.py:481> exception=OperationalError('database is locked')>)\n",
      "Traceback (most recent call last):\n",
      "  File \"/opt/miniconda3/lib/python3.13/asyncio/tasks.py\", line 507, in wait_for\n",
      "    return await fut\n",
      "           ^^^^^^^^^\n",
      "  File \"/opt/miniconda3/lib/python3.13/asyncio/futures.py\", line 286, in __await__\n",
      "    yield self  # This tells Task to wait for completion.\n",
      "    ^^^^^^^^^^\n",
      "  File \"/opt/miniconda3/lib/python3.13/asyncio/tasks.py\", line 375, in __wakeup\n",
      "    future.result()\n",
      "    ~~~~~~~~~~~~~^^\n",
      "  File \"/opt/miniconda3/lib/python3.13/asyncio/futures.py\", line 194, in result\n",
      "    raise self._make_cancelled_error()\n",
      "asyncio.exceptions.CancelledError\n",
      "\n",
      "During handling of the above exception, another exception occurred:\n",
      "\n",
      "Traceback (most recent call last):\n",
      "  File \"/opt/miniconda3/lib/python3.13/site-packages/telethon/helpers.py\", line 176, in _cancel\n",
      "    await task\n",
      "  File \"/opt/miniconda3/lib/python3.13/asyncio/futures.py\", line 289, in __await__\n",
      "    return self.result()  # May raise too.\n",
      "           ~~~~~~~~~~~^^\n",
      "  File \"/opt/miniconda3/lib/python3.13/asyncio/futures.py\", line 199, in result\n",
      "    raise self._exception.with_traceback(self._exception_tb)\n",
      "  File \"/opt/miniconda3/lib/python3.13/asyncio/tasks.py\", line 306, in __step_run_and_handle_result\n",
      "    result = coro.throw(exc)\n",
      "  File \"/opt/miniconda3/lib/python3.13/site-packages/telethon/client/updates.py\", line 517, in _keepalive_loop\n",
      "    self._save_states_and_entities()\n",
      "    ~~~~~~~~~~~~~~~~~~~~~~~~~~~~~~^^\n",
      "  File \"/opt/miniconda3/lib/python3.13/site-packages/telethon/client/telegrambaseclient.py\", line 694, in _save_states_and_entities\n",
      "    self.session.process_entities(types.contacts.ResolvedPeer(None, [e._as_input_peer() for e in entities], []))\n",
      "    ~~~~~~~~~~~~~~~~~~~~~~~~~~~~~^^^^^^^^^^^^^^^^^^^^^^^^^^^^^^^^^^^^^^^^^^^^^^^^^^^^^^^^^^^^^^^^^^^^^^^^^^^^^^^\n",
      "  File \"/opt/miniconda3/lib/python3.13/site-packages/telethon/sessions/sqlite.py\", line 301, in process_entities\n",
      "    c.executemany(\n",
      "    ~~~~~~~~~~~~~^\n",
      "        'insert or replace into entities values (?,?,?,?,?,?)', rows)\n",
      "        ^^^^^^^^^^^^^^^^^^^^^^^^^^^^^^^^^^^^^^^^^^^^^^^^^^^^^^^^^^^^^\n",
      "sqlite3.OperationalError: database is locked\n"
     ]
    }
   ],
   "source": [
    "import os\n",
    "import csv\n",
    "import asyncio\n",
    "import nest_asyncio\n",
    "from telethon.sync import TelegramClient\n",
    "from telethon.tl.functions.messages import GetDialogsRequest\n",
    "from telethon.tl.types import InputPeerEmpty\n",
    "\n",
    "nest_asyncio.apply()\n",
    "\n",
    "api_id = 25594110\n",
    "api_hash = '2dcc1c91380ccef44ad013f809c9936b'\n",
    "phone = '+919412000989'\n",
    "group_username = '@pythontelegrambotgroup'  # Valid public group\n",
    "\n",
    "\n",
    "# ✅ Safe session path\n",
    "session_path = os.path.expanduser(\"~/telegram_session\")\n",
    "\n",
    "# Initialize client\n",
    "client = TelegramClient(session_path, api_id, api_hash)\n",
    "\n",
    "async def main():\n",
    "    await client.start(phone=phone)\n",
    "    print(\"✅ Logged in!\")\n",
    "\n",
    "    try:\n",
    "        group = await client.get_entity(group_username)\n",
    "    except Exception as e:\n",
    "        print(f\"❌ Group error: {e}\")\n",
    "        return\n",
    "\n",
    "    try:\n",
    "        participants = await client.get_participants(group)\n",
    "        print(f\"👥 Members fetched: {len(participants)}\")\n",
    "    except Exception as e:\n",
    "        print(f\"❌ Fetch error: {e}\")\n",
    "        return\n",
    "\n",
    "    csv_filename = '/tmp/telegram_members.csv'\n",
    "\n",
    "    with open(csv_filename, 'w', newline='', encoding='utf-8') as f:\n",
    "        writer = csv.writer(f)\n",
    "        writer.writerow(['ID', 'Username', 'First Name', 'Last Name', 'Phone'])\n",
    "\n",
    "        for user in participants:\n",
    "            writer.writerow([\n",
    "                user.id,\n",
    "                user.username or '',\n",
    "                user.first_name or '',\n",
    "                user.last_name or '',\n",
    "                user.phone or ''\n",
    "            ])\n",
    "\n",
    "    print(f\"📁 Saved: {csv_filename}\")\n",
    "\n",
    "# Run\n",
    "await main()\n"
   ]
  },
  {
   "cell_type": "code",
   "execution_count": null,
   "metadata": {},
   "outputs": [],
   "source": []
  }
 ],
 "metadata": {
  "kernelspec": {
   "display_name": "base",
   "language": "python",
   "name": "python3"
  },
  "language_info": {
   "codemirror_mode": {
    "name": "ipython",
    "version": 3
   },
   "file_extension": ".py",
   "mimetype": "text/x-python",
   "name": "python",
   "nbconvert_exporter": "python",
   "pygments_lexer": "ipython3",
   "version": "3.13.2"
  }
 },
 "nbformat": 4,
 "nbformat_minor": 2
}
